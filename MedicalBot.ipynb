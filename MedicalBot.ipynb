{
  "nbformat": 4,
  "nbformat_minor": 0,
  "metadata": {
    "colab": {
      "provenance": []
    },
    "kernelspec": {
      "name": "python3",
      "display_name": "Python 3"
    },
    "language_info": {
      "name": "python"
    }
  },
  "cells": [
    {
      "cell_type": "code",
      "execution_count": 8,
      "metadata": {
        "colab": {
          "base_uri": "https://localhost:8080/"
        },
        "id": "P8Z8_mdBJx81",
        "outputId": "48a01dca-75fb-4a79-cacb-f1e83997e2e5"
      },
      "outputs": [
        {
          "output_type": "stream",
          "name": "stdout",
          "text": [
            "Requirement already satisfied: openai==1.13.3 in /usr/local/lib/python3.10/dist-packages (1.13.3)\n",
            "Requirement already satisfied: anyio<5,>=3.5.0 in /usr/local/lib/python3.10/dist-packages (from openai==1.13.3) (3.7.1)\n",
            "Requirement already satisfied: distro<2,>=1.7.0 in /usr/lib/python3/dist-packages (from openai==1.13.3) (1.7.0)\n",
            "Requirement already satisfied: httpx<1,>=0.23.0 in /usr/local/lib/python3.10/dist-packages (from openai==1.13.3) (0.27.0)\n",
            "Requirement already satisfied: pydantic<3,>=1.9.0 in /usr/local/lib/python3.10/dist-packages (from openai==1.13.3) (2.7.3)\n",
            "Requirement already satisfied: sniffio in /usr/local/lib/python3.10/dist-packages (from openai==1.13.3) (1.3.1)\n",
            "Requirement already satisfied: tqdm>4 in /usr/local/lib/python3.10/dist-packages (from openai==1.13.3) (4.66.4)\n",
            "Requirement already satisfied: typing-extensions<5,>=4.7 in /usr/local/lib/python3.10/dist-packages (from openai==1.13.3) (4.12.1)\n",
            "Requirement already satisfied: idna>=2.8 in /usr/local/lib/python3.10/dist-packages (from anyio<5,>=3.5.0->openai==1.13.3) (3.7)\n",
            "Requirement already satisfied: exceptiongroup in /usr/local/lib/python3.10/dist-packages (from anyio<5,>=3.5.0->openai==1.13.3) (1.2.1)\n",
            "Requirement already satisfied: certifi in /usr/local/lib/python3.10/dist-packages (from httpx<1,>=0.23.0->openai==1.13.3) (2024.6.2)\n",
            "Requirement already satisfied: httpcore==1.* in /usr/local/lib/python3.10/dist-packages (from httpx<1,>=0.23.0->openai==1.13.3) (1.0.5)\n",
            "Requirement already satisfied: h11<0.15,>=0.13 in /usr/local/lib/python3.10/dist-packages (from httpcore==1.*->httpx<1,>=0.23.0->openai==1.13.3) (0.14.0)\n",
            "Requirement already satisfied: annotated-types>=0.4.0 in /usr/local/lib/python3.10/dist-packages (from pydantic<3,>=1.9.0->openai==1.13.3) (0.7.0)\n",
            "Requirement already satisfied: pydantic-core==2.18.4 in /usr/local/lib/python3.10/dist-packages (from pydantic<3,>=1.9.0->openai==1.13.3) (2.18.4)\n"
          ]
        }
      ],
      "source": [
        "!pip install openai==1.13.3\n",
        "\n",
        "# Add Azure OpenAI package\n",
        "from openai import AzureOpenAI\n",
        "import requests"
      ]
    },
    {
      "cell_type": "code",
      "source": [
        "#Set the API Keys, Endpoint and Model for Image Deployment\n",
        "azure_image_oai_endpoint =\"https://eyuser26.openai.azure.com/\"\n",
        "azure_image_oai_key =\"98138d9733f746a6aa3652f29c183d0d\"\n",
        "azure_image_oai_deployment =\"Dalle3\"\n",
        "\n",
        "#Set the API Keys, Endpoint and Model for Text Deployment\n",
        "azure_text_oai_endpoint =\"https://eyuser19.openai.azure.com/\"\n",
        "azure_text_oai_key =\"f8a4b97dd6fb4630b143f94acce8e34a\"\n",
        "azure_text_oai_deployment =\"GaneshTestDeployment\""
      ],
      "metadata": {
        "id": "j14s2M1SKIj9"
      },
      "execution_count": 9,
      "outputs": []
    },
    {
      "cell_type": "code",
      "source": [
        "# Initialize the Azure OpenAI client\n",
        "azure_image_endpoint = azure_image_oai_endpoint\n",
        "api_image_key=azure_image_oai_key\n",
        "azure_text_endpoint = azure_text_oai_endpoint\n",
        "api_text_key=azure_text_oai_key\n",
        "api_version=\"2024-02-15-preview\""
      ],
      "metadata": {
        "id": "bD3HVt2xKnny"
      },
      "execution_count": 10,
      "outputs": []
    },
    {
      "cell_type": "code",
      "source": [
        "client = AzureOpenAI(\n",
        "          azure_endpoint = azure_text_oai_endpoint,\n",
        "          api_key=azure_text_oai_key,\n",
        "          api_version=\"2024-02-15-preview\"\n",
        "        )\n",
        "\n",
        "url = \"{}openai/deployments/dalle3/images/generations?api-version={}\".format(azure_image_oai_endpoint, api_version)\n",
        "headers= { \"api-key\": azure_image_oai_key, \"Content-Type\": \"application/json\" }\n",
        ""
      ],
      "metadata": {
        "id": "_FJsdLjUMXo8"
      },
      "execution_count": 11,
      "outputs": []
    },
    {
      "cell_type": "code",
      "source": [
        "async def main():\n",
        "    try:\n",
        "        while True:\n",
        "            # Get input from the user to select Chat or Image Bot\n",
        "            print(\"Please enter from the below options to interact with Chat Bot or Image Bot:\")\n",
        "            print(\"1. For Medical Chat Bot Assisstance\")\n",
        "            print(\"2. For Medical Image Bot Assisstance\")\n",
        "            option = input(\"\\nEnter your option to choose Medical Bot Assisstance.\")\n",
        "\n",
        "            user_text = input(\"Enter your message:\")\n",
        "\n",
        "            if(option == '1'):\n",
        "              messages = [\n",
        "                    {\"role\": \"system\", \"content\": \"You are chatting with a Medical Assistant. I can provide information on medical topics and answer health-related questions. Please remember that I'm not a substitute for professional medical advice. If you have a medical emergency, please call emergency services immediately.\"},\n",
        "                    {\"role\": \"user\", \"content\": user_text}\n",
        "                  ]\n",
        "              print(\"Please wait while we find the best response...\")\n",
        "\n",
        "              # Call the Azure OpenAI model\n",
        "              response = client.chat.completions.create(\n",
        "                model = azure_text_oai_deployment,\n",
        "                messages = messages,\n",
        "                temperature = 0.2,\n",
        "                max_tokens = 100\n",
        "              )\n",
        "              bot_response = response.choices[0].message.content\n",
        "              print(\"Bot Response: \\n\" + bot_response + \"\\n\")\n",
        "\n",
        "              # Add generated text to messages array\n",
        "              messages.append({\"role\": \"system\", \"content\": bot_response})\n",
        "\n",
        "            else :\n",
        "              body = { \"prompt\": user_text, \"n\": 1, \"size\": \"1024x1024\" }\n",
        "              response = requests.post(url, headers=headers, json=body)\n",
        "              print(response.text)\n",
        "\n",
        "              # Get the revised prompt and image URL from the response\n",
        "              revised_prompt = response.json()['data'][0]['revised_prompt']\n",
        "              image_url = response.json()['data'][0]['url']\n",
        "              save_path = 'image_name.jpg'\n",
        "\n",
        "              print(\"Please wait while we are generating the image...\")\n",
        "\n",
        "              # Download the image and save it to the specified path\n",
        "              response = requests.get(image_url)\n",
        "              if response.status_code == 200:\n",
        "                with open(save_path, 'wb') as f:\n",
        "                  f.write(response.content)\n",
        "                print(f\"Image saved to {save_path}\")\n",
        "              else:\n",
        "                print(\"Failed to download the image\")\n",
        "\n",
        "            # Pause the app to allow the user to enter the system prompt\n",
        "            text = input(\"Enter Exit to Exit, anything else to continue \")\n",
        "\n",
        "            if text.lower() == 'exit':\n",
        "                print('Exiting program...')\n",
        "                break\n",
        "\n",
        "    except Exception as ex:\n",
        "      print(ex)\n"
      ],
      "metadata": {
        "id": "GqY0DLBLPwwN"
      },
      "execution_count": 14,
      "outputs": []
    },
    {
      "cell_type": "code",
      "source": [
        "await main()"
      ],
      "metadata": {
        "colab": {
          "base_uri": "https://localhost:8080/"
        },
        "id": "FcBsUKm1TZZK",
        "outputId": "2597e197-bcac-48dc-9378-6e0804dd5ecc"
      },
      "execution_count": 15,
      "outputs": [
        {
          "output_type": "stream",
          "name": "stdout",
          "text": [
            "Please enter from the below options to interact with Chat Bot or Image Bot:\n",
            "1. For Medical Chat Bot Assisstance\n",
            "2. For Medical Image Bot Assisstance\n",
            "\n",
            "Enter your option to choose Medical Bot Assisstance.1\n",
            "Enter your message:I am not able to smell suddenly. Please suggest me something.\n",
            "Please wait while we find the best response...\n",
            "Bot Response: \n",
            "Sudden loss of smell, also known as anosmia, can have various causes. It's important to consult with a healthcare professional to determine the underlying cause and receive appropriate treatment. Here are a few potential causes of sudden loss of smell:\n",
            "\n",
            "1. Nasal congestion: Common cold, sinusitis, or allergies can cause temporary loss of smell. Over-the-counter decongestants or nasal sprays may help relieve congestion.\n",
            "\n",
            "2. Viral infections: Some viral infections, such as the flu or\n",
            "\n",
            "Enter Exit to Exit, anything else to continue exit\n",
            "Exiting program...\n"
          ]
        }
      ]
    },
    {
      "cell_type": "code",
      "source": [],
      "metadata": {
        "id": "lOg-B7FuPClS"
      },
      "execution_count": null,
      "outputs": []
    }
  ]
}